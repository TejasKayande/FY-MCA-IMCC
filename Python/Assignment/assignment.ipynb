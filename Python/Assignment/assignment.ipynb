{
 "cells": [
  {
   "cell_type": "code",
   "execution_count": null,
   "id": "c510ad72",
   "metadata": {},
   "outputs": [
    {
     "name": "stdout",
     "output_type": "stream",
     "text": [
      "madam is palindrome\n"
     ]
    }
   ],
   "source": [
    "# Question 1: Write a program to determine if a given string is a palindrome or not using combination of\n",
    "#             positive and negative indexing. Take the string as an input from the user.\n",
    "\n",
    "str = input(\"Enter a String: \")\n",
    "start = 0\n",
    "last = len(str)\n",
    "last = last - 1 # to account for 0 based indexing\n",
    " \n",
    "is_pali = True\n",
    "while last > start:\n",
    "    if str[start] != str[last]:\n",
    "        is_pali = False\n",
    "        break\n",
    "    last = last - 1\n",
    "    start = start + 1\n",
    "\n",
    "if (is_pali):\n",
    "    print(f\"{str} is palindrome\")\n",
    "else:\n",
    "    print(f\"{str} is not palindrome\")"
   ]
  },
  {
   "cell_type": "code",
   "execution_count": null,
   "id": "655b8098",
   "metadata": {},
   "outputs": [
    {
     "name": "stdout",
     "output_type": "stream",
     "text": [
      "T occurs 3 times in 'This is The String with Three capital t'\n"
     ]
    }
   ],
   "source": [
    "# Question 2: Without using count() demonstrate the use of for loop to determine the number of occurrences of \n",
    "#             a given character in a string. Take the string and character from the user. \n",
    "\n",
    "str  = input(\"Enter a String: \")\n",
    "char = input(\"Enter a Character: \")\n",
    "\n",
    "count = str.count(char)\n",
    "print(f\"'{char}' occurs {count} times in '{str}'\")"
   ]
  },
  {
   "cell_type": "code",
   "execution_count": 6,
   "id": "833fa684",
   "metadata": {},
   "outputs": [
    {
     "name": "stdout",
     "output_type": "stream",
     "text": [
      "Factorial of 6 is: 720\n"
     ]
    }
   ],
   "source": [
    "# Question 3: Without using ready made methods, write a program to find factorial of a given number. \n",
    "#             Take the number from the user.\n",
    "\n",
    "num = int(input(\"Enter a number to find its factorial: \"))\n",
    "\n",
    "def fact(n):\n",
    "    if n == 0 or n == 1:\n",
    "        return 1\n",
    "    else:\n",
    "        return n * fact(n - 1)\n",
    "\n",
    "print(f\"Factorial of {num} is: {fact(num)}\")"
   ]
  },
  {
   "cell_type": "code",
   "execution_count": 18,
   "id": "526de03b",
   "metadata": {},
   "outputs": [
    {
     "name": "stdout",
     "output_type": "stream",
     "text": [
      "string a is This \n"
     ]
    }
   ],
   "source": [
    "# Question 4: Without using any ready made methods, write a program in Python to reverse the words \n",
    "#             in a given string. Take the string from the user. \n",
    "str = input(\"Enter a String: \")\n",
    "words = []\n",
    "word = ''\n",
    "for char in str:\n",
    "    if char == ' ':\n",
    "        words.append(word)\n",
    "        word = ''\n",
    "    else:\n",
    "        word = word + char\n",
    "\n",
    "if word:\n",
    "    words.append(word)\n",
    "\n",
    "rev_words = ''\n",
    "while words:\n",
    "    rev_words = rev_words + words.pop()\n",
    "    rev_words = rev_words + ' '\n",
    "\n",
    "print(rev_words)\n"
   ]
  },
  {
   "cell_type": "code",
   "execution_count": null,
   "id": "c2028bd6",
   "metadata": {},
   "outputs": [
    {
     "name": "stdout",
     "output_type": "stream",
     "text": [
      "25 is not an Armstrong number\n"
     ]
    }
   ],
   "source": [
    "# Question 5: Without using any ready made methods, write a program in Python to check if \n",
    "#             the given number is an Armstrong number or not. Take the number from the user. \n",
    "#             Eg : If the number is 153 O/p - 153 is an Armstrong number. \n",
    "#             If the number is 25 O/p - 25 is not an armstrong number\n",
    "\n",
    "num = input(\"Enter a number: \")\n",
    "\n",
    "n = len((num))\n",
    "\n",
    "sum  = 0\n",
    "num  = int(num)\n",
    "temp = num\n",
    "\n",
    "while temp > 0:\n",
    "    digit = temp % 10\n",
    "    sum += digit ** n\n",
    "    temp //= 10\n",
    "\n",
    "if sum == num:\n",
    "    print(f\"{num} is an Armstrong number\")\n",
    "else:\n",
    "    print(f\"{num} is not an Armstrong number\")"
   ]
  },
  {
   "cell_type": "code",
   "execution_count": 43,
   "id": "aee7ee0a",
   "metadata": {},
   "outputs": [
    {
     "name": "stdout",
     "output_type": "stream",
     "text": [
      "This is a test\n",
      "\n",
      "file \n",
      "with multiple\n",
      "\n",
      "lines"
     ]
    }
   ],
   "source": [
    "# Question 6: Without using readline() demonstrate a way in Python to read a multi line file line by line.\n",
    "\n",
    "lines = []\n",
    "file = open('test.txt', 'r')\n",
    "\n",
    "while True:\n",
    "    char = file.read(1)\n",
    "    if not char:\n",
    "        break\n",
    "    if char == '\\n':\n",
    "        lines.append('\\n')\n",
    "    else:\n",
    "        if len(lines) == 0:\n",
    "            lines.append(char)\n",
    "        else:\n",
    "            if lines[-1] == '\\n':\n",
    "                lines.append(char)\n",
    "            else:\n",
    "                lines[-1] = lines[-1] + char\n",
    "\n",
    "for line in lines:\n",
    "    print(line, end='')"
   ]
  },
  {
   "cell_type": "code",
   "execution_count": null,
   "id": "30b701eb",
   "metadata": {},
   "outputs": [],
   "source": [
    "# Quesiton 7: Using readlines() demonstrate a way to return the total number of NON BLANK lines in a file\n",
    "\n",
    "lines = []\n",
    "file = open('test.txt', 'r')\n",
    "line = ''\n",
    "while True:\n",
    "    char = file.read(1)\n",
    "    if not char:\n",
    "        break\n",
    "    if char == '\\n':\n",
    "        lines.append(line + '\\n')\n",
    "        line = ''\n",
    "    else:\n",
    "        line = line + char\n",
    "\n",
    "if line:\n",
    "    lines.append(line)\n",
    "\n",
    "for line in lines:\n",
    "    print(line)"
   ]
  }
 ],
 "metadata": {
  "kernelspec": {
   "display_name": "Python 3",
   "language": "python",
   "name": "python3"
  },
  "language_info": {
   "codemirror_mode": {
    "name": "ipython",
    "version": 3
   },
   "file_extension": ".py",
   "mimetype": "text/x-python",
   "name": "python",
   "nbconvert_exporter": "python",
   "pygments_lexer": "ipython3",
   "version": "3.13.7"
  }
 },
 "nbformat": 4,
 "nbformat_minor": 5
}
