{
 "cells": [
  {
   "cell_type": "code",
   "execution_count": 1,
   "id": "27880ed3",
   "metadata": {},
   "outputs": [],
   "source": [
    "import numpy as np"
   ]
  },
  {
   "cell_type": "code",
   "execution_count": 8,
   "id": "05a3489b",
   "metadata": {},
   "outputs": [],
   "source": [
    "# Creating 1D, 2D, and 3D numpy arrays\n",
    "array_1d = np.array([1, 2, 3, 4, 5, 6])\n",
    "array_2d = np.array([[1, 2, 3], [4, 5, 6]])\n",
    "array_3d = np.array([[[1, 2, 3], [4, 5, 6]], [[7, 8, 9], [10, 11, 12]]])"
   ]
  },
  {
   "cell_type": "code",
   "execution_count": 15,
   "id": "026add34",
   "metadata": {},
   "outputs": [
    {
     "name": "stdout",
     "output_type": "stream",
     "text": [
      "1D access:\n",
      "4\n",
      "3\n",
      "\n",
      "2D access:\n",
      "Third Element in first row of 2D array:  3\n",
      "Second Element in second row of 2D array:  5\n",
      "\n",
      "3D access:\n",
      "[[[ 1  2  3]\n",
      "  [ 4  5  6]]\n",
      "\n",
      " [[ 7  8  9]\n",
      "  [10 11 12]]]\n",
      "7\n",
      "\n",
      "Negative Indexing:\n",
      "Last element of 1D array:  6\n",
      "6\n",
      "12\n"
     ]
    }
   ],
   "source": [
    "# Accessing elements in the array\n",
    "# 1D array\n",
    "print('1D access:')\n",
    "print(array_1d[3])\n",
    "print(array_1d[1] + array_1d[0])\n",
    "print()\n",
    "\n",
    "# 2D array\n",
    "print('2D access:')\n",
    "print('Third Element in first row of 2D array: ', array_2d[0, 2])\n",
    "print('Second Element in second row of 2D array: ', array_2d[1, 1])\n",
    "print()\n",
    "\n",
    "# 3D array\n",
    "print('3D access:')\n",
    "print(array_3d)\n",
    "print(array_3d[1, 0, 0])\n",
    "print()\n",
    "\n",
    "# negative indexing\n",
    "print('Negative Indexing:')\n",
    "print('Last element of 1D array: ', array_1d[-1])\n",
    "print(array_2d[1, -1])\n",
    "print(array_3d[1, 1, -1])"
   ]
  },
  {
   "cell_type": "code",
   "execution_count": 24,
   "id": "21060801",
   "metadata": {},
   "outputs": [
    {
     "name": "stdout",
     "output_type": "stream",
     "text": [
      "[4 3 5 6 8 9]\n",
      "['OOPs' 'Java' 'C++' 'DSA' 'C' 'Networking']\n",
      "['Physics' 'DataScience' 'Maths' 'Python' 'Hadopp']\n",
      "[7 4]\n",
      "[33]\n",
      "[[5 6]]\n",
      "[13 34 58 69 44 56 37]\n"
     ]
    }
   ],
   "source": [
    "# Slicing Arrays\n",
    "# array[start:stop] - default start is 0, default stop is length of array\n",
    "# array[start:stop:step] - default step is 1\n",
    "\n",
    "Employee_Rating = np.array([1, 4, 3, 5, 6, 8, 9, 10, 12])\n",
    "print(Employee_Rating[1:7])\n",
    "\n",
    "# default start and stop\n",
    "Books = np.array(['Physics', 'DataScience', 'Maths', 'Python', 'Hadopp', 'OOPs', 'Java', 'C++', 'DSA', 'C', 'Networking'])\n",
    "print(Books[5:]) \n",
    "print(Books[:5]) \n",
    "\n",
    "# using step\n",
    "X = np.array([8, 7, 6, 5, 4, 3, 2, 1])\n",
    "print(X[1:6:3])\n",
    "\n",
    "\n",
    "# slicing in 2D\n",
    "Z = np.array([[11, 22, 33, 44, 55], [66, 77, 88, 99, 110]])\n",
    "print(Z[0, 2:3])\n",
    "\n",
    "# slicing in 3D\n",
    "arr3d = np.array([[[1, 2, 3], [4, 5, 6]], [[7, 8, 9], [10, 11, 12]]])\n",
    "print(arr3d[0, 1:, 1:])\n",
    "\n",
    "# negative slicing\n",
    "arr = np.array([13, 34, 58, 69, 44, 56, 37, 24])\n",
    "print(arr[:-1])"
   ]
  },
  {
   "cell_type": "code",
   "execution_count": 25,
   "id": "ed1d9d0a",
   "metadata": {},
   "outputs": [
    {
     "name": "stdout",
     "output_type": "stream",
     "text": [
      "Index 3 of arr1D:  40\n",
      "Sliced arr1D from index 2 to 6:  [30 40 50 60]\n",
      "\n"
     ]
    }
   ],
   "source": [
    "# assignment\n",
    "# 1\n",
    "arr1D = np.array([10, 20, 30, 40, 50, 60, 70, 80, 90, 100])\n",
    "\n",
    "# 2 \n",
    "arr2D = np.array(\n",
    "    [\n",
    "        [1,  2,  3,  4], \n",
    "        [5,  6,  7,  8], \n",
    "        [9, 10, 11, 12]\n",
    "    ]\n",
    ")\n",
    "\n",
    "# 3\n",
    "arr3D = np.array(\n",
    "    [\n",
    "        [\n",
    "            [1, 2, 3], \n",
    "            [4, 5, 6]\n",
    "        ], \n",
    "        [\n",
    "            [7, 8, 9], \n",
    "            [10, 11, 12]\n",
    "        ]\n",
    "    ]\n",
    ")\n",
    "\n",
    "# 4\n",
    "print('Index 3 of arr1D: ', arr1D[3])\n",
    "print('Sliced arr1D from index 2 to 6: ', arr1D[2:6])\n",
    "print()\n",
    "\n",
    "# print('Index 3 of arr1D: ', arr1D[3])\n",
    "# print('Sliced arr1D from index 2 to 6: ', arr1D[2:6])"
   ]
  }
 ],
 "metadata": {
  "kernelspec": {
   "display_name": "Python 3",
   "language": "python",
   "name": "python3"
  },
  "language_info": {
   "codemirror_mode": {
    "name": "ipython",
    "version": 3
   },
   "file_extension": ".py",
   "mimetype": "text/x-python",
   "name": "python",
   "nbconvert_exporter": "python",
   "pygments_lexer": "ipython3",
   "version": "3.13.7"
  }
 },
 "nbformat": 4,
 "nbformat_minor": 5
}
