{
 "cells": [
  {
   "cell_type": "code",
   "execution_count": 6,
   "id": "9b468a39",
   "metadata": {},
   "outputs": [
    {
     "name": "stdout",
     "output_type": "stream",
     "text": [
      "Input:  5\n",
      "Output:\n",
      "        1 \n",
      "      1 2 1 \n",
      "    1 2 3 2 1 \n",
      "  1 2 3 4 3 2 1 \n",
      "1 2 3 4 5 4 3 2 1 \n"
     ]
    }
   ],
   "source": [
    "# Question 1: Write a program to print pallindromic pyramid\n",
    "\n",
    "num = int(input(\"Enter a number: \"))\n",
    "print(\"Input: \", num)\n",
    "\n",
    "print(\"Output:\")\n",
    "for i in range(1, num + 1):\n",
    "    for s in range(1, num - i + 1):\n",
    "        print(\" \", end=\" \")\n",
    "    for j in range(1, i + 1):\n",
    "        print(j, end=\" \")\n",
    "    \n",
    "    for k in range(i - 1, 0, -1):\n",
    "        print(k, end=\" \")\n",
    "    print()\n",
    "\n"
   ]
  },
  {
   "cell_type": "code",
   "execution_count": 7,
   "id": "0894511a",
   "metadata": {},
   "outputs": [
    {
     "name": "stdout",
     "output_type": "stream",
     "text": [
      "Input:  5\n",
      "Output:\n",
      "        * \n",
      "      *   * \n",
      "    *       * \n",
      "  *           * \n",
      "*               * \n",
      "  *           *   \n",
      "    *       *     \n",
      "      *   *       \n",
      "        *         \n"
     ]
    }
   ],
   "source": [
    "# Question 2: Write a program to print hollow diamond star pattern\n",
    "num = int(input(\"enter a number: \"))\n",
    "print(\"Input: \", num)\n",
    "\n",
    "print(\"Output:\")\n",
    "\n",
    "for i in range(1, num + 1):\n",
    "\n",
    "    for s in range(1, num - i + 1):\n",
    "        print(\" \", end=\" \")\n",
    "\n",
    "    for j in range(1, i + 1):\n",
    "        if j == 1:\n",
    "            print(\"*\", end=\" \")\n",
    "        else:\n",
    "            print(\" \", end=\" \")\n",
    "\n",
    "    for k in range(2, i + 1):\n",
    "        if k == i:\n",
    "            print(\"*\", end=\" \")\n",
    "        else:\n",
    "            print(\" \", end=\" \")\n",
    "\n",
    "    print()\n",
    "\n",
    "for i in range(2, num + 1):\n",
    "\n",
    "    for j in range(1, i + 1):\n",
    "        if j == i:\n",
    "            print(\"*\", end=\" \")\n",
    "        else:\n",
    "            print(\" \", end=\" \")\n",
    "    \n",
    "    for s in range(1, num - i + 1):\n",
    "        print(\" \", end=\" \")\n",
    "        \n",
    "    for k in range(1, num):\n",
    "        if k == num - i:\n",
    "            print(\"*\", end=\" \")\n",
    "        else:\n",
    "            print(\" \", end=\" \")\n",
    "\n",
    "    print()\n"
   ]
  },
  {
   "cell_type": "code",
   "execution_count": 8,
   "id": "f701fad7",
   "metadata": {},
   "outputs": [
    {
     "name": "stdout",
     "output_type": "stream",
     "text": [
      "Input:  5\n",
      "Output:\n",
      "        1 \n",
      "      1   3 \n",
      "    1       5 \n",
      "  1           7 \n",
      "1               9 \n",
      "  1           7   \n",
      "    1       5     \n",
      "      1   3       \n",
      "        1         \n"
     ]
    }
   ],
   "source": [
    "# 3.​ Write a program to print hollow diamond number pattern\n",
    "\n",
    "num = int(input(\"Enter a number: \"))\n",
    "print(\"Input: \", num)\n",
    "\n",
    "print(\"Output:\")\n",
    "\n",
    "x = 3\n",
    "\n",
    "for i in range(1, num + 1):\n",
    "\n",
    "    for s in range(1, num - i + 1):\n",
    "        print(\" \", end=\" \")\n",
    "\n",
    "    for j in range(1, i + 1):\n",
    "        if j == 1:\n",
    "            print(\"1\", end=\" \")\n",
    "        else:\n",
    "            print(\" \", end=\" \")\n",
    "\n",
    "    for k in range(2, i + 1):\n",
    "        if k == i:\n",
    "            print(x, end=\" \")\n",
    "            x = x + 2\n",
    "        else:\n",
    "            print(\" \", end=\" \")\n",
    "\n",
    "    print()\n",
    "\n",
    "x = x - 4\n",
    "\n",
    "for i in range(2, num + 1):\n",
    "\n",
    "    for j in range(1, i + 1):\n",
    "        if j == i:\n",
    "            print(\"1\", end=\" \")\n",
    "        else:\n",
    "            print(\" \", end=\" \")\n",
    "    \n",
    "    for s in range(1, num - i + 1):\n",
    "        print(\" \", end=\" \")\n",
    "        \n",
    "    for k in range(1, num):\n",
    "        if k == num - i:\n",
    "            print(x, end=\" \")\n",
    "            x = x - 2\n",
    "        else:\n",
    "            print(\" \", end=\" \")\n",
    "\n",
    "    print()\n"
   ]
  },
  {
   "cell_type": "code",
   "execution_count": 10,
   "id": "a81ff3ae",
   "metadata": {},
   "outputs": [
    {
     "name": "stdout",
     "output_type": "stream",
     "text": [
      "Input: \n",
      "string: 'Python programming is an interesting programming language'\n",
      "substring: 'program'\n",
      "Output:\n",
      "Total occurrences of substring: 2\n",
      "Found at [7, 37]\n"
     ]
    }
   ],
   "source": [
    "# Question 4:  Write a program to find all occurrences of substring in a given string.\n",
    "# Example- Given String- “Python programming is an interesting programming language”\n",
    "#  substring= ”program”\n",
    "# Output- It should print positions of substring like 7, 37\n",
    "\n",
    "str = input(\"Enter the main string: \") \n",
    "sub_str = input(\"Enter the substring: \")\n",
    "print(\"Input: \")\n",
    "print(f\"string: '{str}'\")\n",
    "print(f\"substring: '{sub_str}'\")\n",
    "\n",
    "print(\"Output:\")\n",
    "start = 0\n",
    "count = 0\n",
    "\n",
    "occ = []\n",
    "\n",
    "while True:\n",
    "    start = str.find(sub_str, start)\n",
    "    if start == -1:\n",
    "        break\n",
    "    occ.append(start)\n",
    "    start += 1\n",
    "    count += 1\n",
    "\n",
    "print(f\"Total occurrences of substring: {count}\")\n",
    "print(f\"Found at {occ}\")\n",
    "if count == 0:\n",
    "    print(\"Substring not found\")\n",
    "    "
   ]
  },
  {
   "cell_type": "code",
   "execution_count": 15,
   "id": "38b88de5",
   "metadata": {},
   "outputs": [
    {
     "name": "stdout",
     "output_type": "stream",
     "text": [
      "Input: This is a sample string with special chars: 123!@#\n",
      "Output:\n",
      "Vowels: 11\n",
      "Consonants: 24\n",
      "Digits: 3\n",
      "Words: 9\n",
      "Special Chars: 4\n",
      "Lines: 1\n"
     ]
    }
   ],
   "source": [
    "# Question 5:​ Write a program to count and print the number of vowels, consonants, digits, words, lines,\n",
    "# special characters in a given text.\n",
    "\n",
    "str = input(\"Enter a string: \")\n",
    "print(f\"Input: {str}\")\n",
    "\n",
    "print(\"Output:\")\n",
    "v = c = d = w = s = 0\n",
    "l = 1\n",
    "\n",
    "empt = True\n",
    "\n",
    "for char in str:\n",
    "    empt = False\n",
    "\n",
    "    if ('A' <= char <= 'Z') or ('a' <= char <= 'z'):\n",
    "        if char in 'aeiouAEIOU':\n",
    "            v += 1\n",
    "        else:\n",
    "            c += 1\n",
    "\n",
    "    elif '0' <= char <= '9':\n",
    "        d += 1\n",
    "\n",
    "    else:\n",
    "        if char == ' ':\n",
    "            w += 1\n",
    "        elif char == '.':\n",
    "            s += 1\n",
    "            w += 1\n",
    "        elif char == '\\n':\n",
    "            w += 1\n",
    "            l += 1\n",
    "        else:\n",
    "            s += 1\n",
    "\n",
    "if not empt:\n",
    "    w += 1\n",
    "else:\n",
    "    l = w = 0\n",
    "\n",
    "print(\"Vowels:\", v)\n",
    "print(\"Consonants:\", c)\n",
    "print(\"Digits:\", d)\n",
    "print(\"Words:\", w)\n",
    "print(\"Special Chars:\", s)\n",
    "print(\"Lines:\", l)"
   ]
  },
  {
   "cell_type": "code",
   "execution_count": 16,
   "id": "a07aef8d",
   "metadata": {},
   "outputs": [
    {
     "name": "stdout",
     "output_type": "stream",
     "text": [
      "Input:  find the longest word in the sentence\n",
      "Output:\n",
      "Longest word is: sentence\n"
     ]
    }
   ],
   "source": [
    "# 6.​ Write a Python program to find the longest word in a sentence.\n",
    "\n",
    "str = input(\"Enter a string: \")\n",
    "print(\"Input: \", str)\n",
    "\n",
    "print(\"Output:\")\n",
    "\n",
    "words = str.split()\n",
    "\n",
    "longest = ''\n",
    "\n",
    "for word in words:\n",
    "    if (len(word) > len(longest)):\n",
    "        longest = word\n",
    "\n",
    "print(f\"Longest word is: {longest}\")"
   ]
  },
  {
   "cell_type": "code",
   "execution_count": 17,
   "id": "145f1f6c",
   "metadata": {},
   "outputs": [
    {
     "name": "stdout",
     "output_type": "stream",
     "text": [
      "Input: \n",
      "string: 'I like to eat oranges.'\n",
      "old_sub: 'orange'\n",
      "new_sub: 'apple'\n",
      "Output:\n",
      "I like to eat apples.\n"
     ]
    }
   ],
   "source": [
    "# 7.​ Write a Python program to replace all occurrences of a substring with another substring.\n",
    "# Example- text = \"I like apple, apple is my favorite fruit. apple pie is delicious.\"\n",
    "# old_sub = \"apple\", new_sub = \"orange\"\n",
    "# Output- \"I like orange, orange is my favorite fruit. orange pie is delicious.\"\n",
    "\n",
    "str = input(\"Enter a String: \")\n",
    "\n",
    "old = input(\"Enter old subtring: \")\n",
    "new = input(\"Enter new subtring: \")\n",
    "\n",
    "print(\"Input: \")\n",
    "print(f\"string: '{str}'\")\n",
    "print(f\"old_sub: '{old}'\")\n",
    "print(f\"new_sub: '{new}'\")\n",
    "\n",
    "print(\"Output:\")\n",
    "result = ''\n",
    "i = 0\n",
    "while i < len(str):\n",
    "    if str[i : i + len(old)] == old:\n",
    "        result += new\n",
    "        i += len(old)\n",
    "\n",
    "    else:\n",
    "        result += str[i]\n",
    "        i += 1\n",
    "\n",
    "print(result)\n"
   ]
  },
  {
   "cell_type": "code",
   "execution_count": 19,
   "id": "051950f0",
   "metadata": {},
   "outputs": [
    {
     "name": "stdout",
     "output_type": "stream",
     "text": [
      "Input:  Are there any repeating characters in this string\n",
      "Output:\n",
      "Some characters in the string are repeating\n"
     ]
    }
   ],
   "source": [
    "# 8.​ Write a Python program to check if a string contains only unique characters.\n",
    "\n",
    "str = input(\"Enter a string\")\n",
    "print(\"Input: \", str)\n",
    "\n",
    "print(\"Output:\")\n",
    "ditc = {}\n",
    "\n",
    "isunique = True\n",
    "\n",
    "for char in str:\n",
    "    \n",
    "    if ditc.get(char):\n",
    "        isunique = False\n",
    "        break\n",
    "\n",
    "    ditc[char] = True\n",
    "\n",
    "if (isunique):\n",
    "    print(\"All characters in the string are unique\")\n",
    "else:\n",
    "    print(\"Some characters in the string are repeating\")"
   ]
  },
  {
   "cell_type": "code",
   "execution_count": null,
   "id": "e90de3ac",
   "metadata": {},
   "outputs": [
    {
     "name": "stdout",
     "output_type": "stream",
     "text": [
      "original array: [4, 2, 3, 1, 9, 9, 0, 5]\n",
      "remove duplicate: [4, 2, 3, 1, 9, 0, 5]\n"
     ]
    }
   ],
   "source": [
    "# 9.​ Write a program to remove duplicates from array.\n",
    "\n",
    "arr = []\n",
    "\n",
    "while True:\n",
    "    x = int(input(\"Enter a number: \"))\n",
    "    arr.append(x)\n",
    "\n",
    "    s = input(\"Enter 'x' to stop taking inputs. Press any other key to continue. \")\n",
    "\n",
    "    if s == 'x' or s == 'X':\n",
    "        break\n",
    "\n",
    "new_arr = []\n",
    "for x in arr:\n",
    "    if x not in new_arr:\n",
    "        new_arr.append(x)\n",
    "\n",
    "print(f\"original array: {arr}\")\n",
    "print(f\"remove duplicate: {new_arr}\")\n"
   ]
  },
  {
   "cell_type": "code",
   "execution_count": 21,
   "id": "fd529e5d",
   "metadata": {},
   "outputs": [
    {
     "name": "stdout",
     "output_type": "stream",
     "text": [
      "Enter 10 numbers for the array\n",
      "Before Swap: [1, 2, 3, 4, 5, 6, 7, 8, 9, 10]\n",
      "After Swap:  [2, 1, 4, 3, 6, 5, 8, 7, 10, 9]\n"
     ]
    }
   ],
   "source": [
    "# 10.​Write a program to swap consecutive numbers in an array.\n",
    "\n",
    "arr = []\n",
    "\n",
    "num_of_ele = 10\n",
    "\n",
    "print(\"Enter 10 numbers for the array\")\n",
    "for i in range(0, num_of_ele):\n",
    "    x = int(input(\"Enter a number: \"))\n",
    "    arr.append(x)\n",
    "\n",
    "print(f\"Before Swap: {arr}\")\n",
    "\n",
    "index = 0\n",
    "while index < num_of_ele:\n",
    "\n",
    "    i1 = index\n",
    "    i2 = index + 1\n",
    "\n",
    "    temp = arr[i1]\n",
    "    arr[i1] = arr[i2]\n",
    "    arr[i2] = temp\n",
    "\n",
    "    index += 2\n",
    "\n",
    "print(f\"After Swap:  {arr}\")"
   ]
  },
  {
   "cell_type": "code",
   "execution_count": null,
   "id": "d7213f6d",
   "metadata": {},
   "outputs": [],
   "source": []
  }
 ],
 "metadata": {
  "kernelspec": {
   "display_name": "Python 3",
   "language": "python",
   "name": "python3"
  },
  "language_info": {
   "codemirror_mode": {
    "name": "ipython",
    "version": 3
   },
   "file_extension": ".py",
   "mimetype": "text/x-python",
   "name": "python",
   "nbconvert_exporter": "python",
   "pygments_lexer": "ipython3",
   "version": "3.13.7"
  }
 },
 "nbformat": 4,
 "nbformat_minor": 5
}
